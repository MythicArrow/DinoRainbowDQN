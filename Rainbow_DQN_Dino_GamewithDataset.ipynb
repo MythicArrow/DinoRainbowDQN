{
  "cells": [
    {
      "cell_type": "markdown",
      "id": "07241ddd",
      "metadata": {
        "id": "07241ddd"
      },
      "source": [
        "\n",
        "# Rainbow DQN for Chrome Dino Game\n",
        "\n",
        "This notebook provides a step-by-step guide to implementing Rainbow DQN for training an agent to play the Chrome Dino Game.\n",
        "Rainbow DQN combines multiple reinforcement learning enhancements, making it suitable for complex tasks.\n"
      ]
    },
    {
      "cell_type": "code",
      "execution_count": null,
      "id": "1b83b602",
      "metadata": {
        "id": "1b83b602",
        "colab": {
          "base_uri": "https://localhost:8080/"
        },
        "outputId": "fc601453-55d5-430f-ed35-1cd60d74eaab"
      },
      "outputs": [
        {
          "output_type": "stream",
          "name": "stdout",
          "text": [
            "Requirement already satisfied: gym in /usr/local/lib/python3.11/dist-packages (0.25.2)\n",
            "\u001b[31mERROR: Could not find a version that satisfies the requirement chromedino (from versions: none)\u001b[0m\u001b[31m\n",
            "\u001b[0m\u001b[31mERROR: No matching distribution found for chromedino\u001b[0m\u001b[31m\n",
            "\u001b[0m"
          ]
        }
      ],
      "source": [
        "\n",
        "# Install necessary libraries\n",
        "!pip install gym chromedino jax nnx optax numpy\n"
      ]
    },
    {
      "cell_type": "markdown",
      "id": "7bba93fd",
      "metadata": {
        "id": "7bba93fd"
      },
      "source": [
        "\n",
        "## Environment Setup: Chrome Dino Game\n",
        "\n",
        "The **Chrome Dino Game** involves controlling a dinosaur to avoid obstacles by jumping or ducking.\n",
        "The goal is to maximize the score by surviving as long as possible.\n",
        "\n",
        "### Observation Space\n",
        "- 2D representation of the game state (e.g., pixel data or feature vectors).\n",
        "\n",
        "### Action Space\n",
        "- `0`: Do Nothing\n",
        "- `1`: Jump\n",
        "- `2`: Duck\n",
        "\n",
        "### Reward\n",
        "- Positive reward for surviving each timestep.\n",
        "- Negative reward for collisions.\n"
      ]
    },
    {
      "cell_type": "markdown",
      "id": "57c38cd5",
      "metadata": {
        "id": "57c38cd5"
      },
      "source": [
        "\n",
        "## Rainbow DQN Model\n",
        "\n",
        "The Rainbow DQN model integrates state-of-the-art techniques like:\n",
        "1. **Distributional Q-Learning**\n",
        "2. **Dueling Network Architecture**\n",
        "3. **Prioritized Experience Replay**\n",
        "4. **Double Q-Learning**\n",
        "5. **Noisy Networks**\n",
        "6. **Multi-step Learning**\n",
        "\n",
        "Below is the implementation of the model using the Flax `nnx` API.\n"
      ]
    },
    {
      "cell_type": "code",
      "execution_count": null,
      "id": "78df0f3f",
      "metadata": {
        "id": "78df0f3f"
      },
      "outputs": [],
      "source": [
        "\n",
        "import jax\n",
        "import jax.numpy as jnp\n",
        "from flax import nnx\n",
        "\n",
        "class RainbowDQN(nnx.Module):\n",
        "    action_dim: int\n",
        "    atoms: int\n",
        "    v_min: float\n",
        "    v_max: float\n",
        "\n",
        "    def __init__(self):\n",
        "        self.support = jnp.linspace(self.v_min, self.v_max, self.atoms)\n",
        "        self.feature_layer = nnx.Linear(128)\n",
        "        self.value_layer = nnx.Sequential([\n",
        "            nnx.Linear(128), nnx.relu, nnx.Linear(self.atoms)\n",
        "        ])\n",
        "        self.advantage_layer = nnx.Sequential([\n",
        "            nnx.Linear(128), nnx.relu, nnx.Linear(self.action_dim * self.atoms)\n",
        "        ])\n",
        "\n",
        "    def __call__(self, x: jnp.ndarray) -> jnp.ndarray:\n",
        "        features = nnx.relu(self.feature_layer(x))\n",
        "        value = self.value_layer(features).reshape(-1, 1, self.atoms)\n",
        "        advantage = self.advantage_layer(features).reshape(-1, self.action_dim, self.atoms)\n",
        "        q_atoms = value + (advantage - advantage.mean(axis=1, keepdims=True))\n",
        "        return nnx.softmax(q_atoms, axis=-1)\n",
        "\n",
        "    def q_values(self, x: jnp.ndarray) -> jnp.ndarray:\n",
        "        q_atoms = self(x)\n",
        "        return (q_atoms * self.support).sum(axis=-1)\n"
      ]
    },
    {
      "cell_type": "markdown",
      "id": "32be5ad1",
      "metadata": {
        "id": "32be5ad1"
      },
      "source": [
        "\n",
        "## Prioritized Replay Buffer\n",
        "\n",
        "The replay buffer stores transitions and prioritizes sampling based on their importance.\n",
        "\n",
        "### Key Features\n",
        "- **Storage**: Saves states, actions, rewards, and transitions.\n",
        "- **Prioritization**: Samples transitions based on TD error magnitudes.\n",
        "- **Updates**: Updates priorities based on new TD errors.\n"
      ]
    },
    {
      "cell_type": "code",
      "execution_count": null,
      "id": "9d43ad24",
      "metadata": {
        "id": "9d43ad24",
        "colab": {
          "base_uri": "https://localhost:8080/"
        },
        "outputId": "7ffee81a-3fef-4911-da64-4d9b22a66fda"
      },
      "outputs": [
        {
          "output_type": "stream",
          "name": "stderr",
          "text": [
            "/usr/local/lib/python3.11/dist-packages/ipykernel/ipkernel.py:283: DeprecationWarning: `should_run_async` will not call `transform_cell` automatically in the future. Please pass the result to `transformed_cell` argument and any exception that happen during thetransform in `preprocessing_exc_tuple` in IPython 7.17 and above.\n",
            "  and should_run_async(code)\n"
          ]
        }
      ],
      "source": [
        "\n",
        "import numpy as np\n",
        "\n",
        "class PrioritizedReplayBuffer:\n",
        "    def __init__(self, capacity, state_shape, action_dim, alpha=0.6):\n",
        "        self.capacity = capacity\n",
        "        self.ptr, self.size = 0, 0\n",
        "        self.alpha = alpha\n",
        "        self.states = np.zeros((capacity, *state_shape), dtype=np.float32)\n",
        "        self.actions = np.zeros(capacity, dtype=np.int32)\n",
        "        self.rewards = np.zeros(capacity, dtype=np.float32)\n",
        "        self.next_states = np.zeros((capacity, *state_shape), dtype=np.float32)\n",
        "        self.dones = np.zeros(capacity, dtype=np.float32)\n",
        "        self.priorities = np.zeros(capacity, dtype=np.float32)\n",
        "\n",
        "    def store(self, state, action, reward, next_state, done):\n",
        "        max_priority = self.priorities.max() if self.size > 0 else 1.0\n",
        "        self.states[self.ptr] = state\n",
        "        self.actions[self.ptr] = action\n",
        "        self.rewards[self.ptr] = reward\n",
        "        self.next_states[self.ptr] = next_state\n",
        "        self.dones[self.ptr] = done\n",
        "        self.priorities[self.ptr] = max_priority\n",
        "        self.ptr = (self.ptr + 1) % self.capacity\n",
        "        self.size = min(self.size + 1, self.capacity)\n",
        "\n",
        "    def sample(self, batch_size, beta=0.4):\n",
        "        priorities = self.priorities[:self.size] ** self.alpha\n",
        "        probabilities = priorities / priorities.sum()\n",
        "        indices = np.random.choice(self.size, batch_size, p=probabilities)\n",
        "        weights = (self.size * probabilities[indices]) ** (-beta)\n",
        "        weights /= weights.max()\n",
        "        return (\n",
        "            self.states[indices], self.actions[indices], self.rewards[indices],\n",
        "            self.next_states[indices], self.dones[indices], indices, weights\n",
        "        )\n",
        "\n",
        "    def update_priorities(self, indices, priorities):\n",
        "        for idx, priority in zip(indices, priorities):\n",
        "            self.priorities[idx] = priority\n"
      ]
    },
    {
      "cell_type": "markdown",
      "id": "bedd4da8",
      "metadata": {
        "id": "bedd4da8"
      },
      "source": [
        "\n",
        "## Training Procedure\n",
        "\n",
        "The training loop integrates the environment, Rainbow DQN model, replay buffer, and optimization process.\n",
        "\n",
        "### Highlights\n",
        "- **Epsilon-Greedy Exploration**: Balances exploration and exploitation.\n",
        "- **Experience Storage**: Stores transitions in the replay buffer.\n",
        "- **Batch Updates**: Samples a batch of transitions for training.\n",
        "\n",
        "Below is the implementation of the training loop.\n"
      ]
    },
    {
      "cell_type": "code",
      "execution_count": null,
      "id": "9a67f305",
      "metadata": {
        "id": "9a67f305",
        "colab": {
          "base_uri": "https://localhost:8080/",
          "height": 211
        },
        "outputId": "69802df9-3e06-4c41-ee39-e27c8e8bdf55"
      },
      "outputs": [
        {
          "output_type": "error",
          "ename": "NameError",
          "evalue": "name 'episodes' is not defined",
          "traceback": [
            "\u001b[0;31m---------------------------------------------------------------------------\u001b[0m",
            "\u001b[0;31mNameError\u001b[0m                                 Traceback (most recent call last)",
            "\u001b[0;32m<ipython-input-5-e48a175aca0a>\u001b[0m in \u001b[0;36m<cell line: 0>\u001b[0;34m()\u001b[0m\n\u001b[1;32m     38\u001b[0m         \u001b[0mprint\u001b[0m\u001b[0;34m(\u001b[0m\u001b[0;34mf\"Episode {episode + 1}, Reward: {episode_reward}\"\u001b[0m\u001b[0;34m)\u001b[0m\u001b[0;34m\u001b[0m\u001b[0;34m\u001b[0m\u001b[0m\n\u001b[1;32m     39\u001b[0m \u001b[0;34m\u001b[0m\u001b[0m\n\u001b[0;32m---> 40\u001b[0;31m \u001b[0mresults\u001b[0m \u001b[0;34m=\u001b[0m \u001b[0;34m{\u001b[0m\u001b[0;34m'Episode'\u001b[0m\u001b[0;34m:\u001b[0m \u001b[0msum\u001b[0m\u001b[0;34m(\u001b[0m\u001b[0mepisodes\u001b[0m\u001b[0;34m)\u001b[0m\u001b[0;34m,\u001b[0m \u001b[0;34m'Reward'\u001b[0m\u001b[0;34m:\u001b[0m \u001b[0mrewards\u001b[0m\u001b[0;34m}\u001b[0m\u001b[0;34m\u001b[0m\u001b[0;34m\u001b[0m\u001b[0m\n\u001b[0m\u001b[1;32m     41\u001b[0m \u001b[0mdf\u001b[0m \u001b[0;34m=\u001b[0m \u001b[0mpd\u001b[0m\u001b[0;34m.\u001b[0m\u001b[0mDataFrame\u001b[0m\u001b[0;34m(\u001b[0m\u001b[0mresults\u001b[0m\u001b[0;34m)\u001b[0m\u001b[0;34m\u001b[0m\u001b[0;34m\u001b[0m\u001b[0m\n\u001b[1;32m     42\u001b[0m \u001b[0mdf\u001b[0m\u001b[0;34m.\u001b[0m\u001b[0mto_csv\u001b[0m\u001b[0;34m(\u001b[0m\u001b[0;34m'dino_results.csv'\u001b[0m\u001b[0;34m,\u001b[0m \u001b[0mindex\u001b[0m\u001b[0;34m=\u001b[0m\u001b[0;32mFalse\u001b[0m\u001b[0;34m)\u001b[0m\u001b[0;34m\u001b[0m\u001b[0;34m\u001b[0m\u001b[0m\n",
            "\u001b[0;31mNameError\u001b[0m: name 'episodes' is not defined"
          ]
        }
      ],
      "source": [
        "import gym\n",
        "\n",
        "def train_dino():\n",
        "    env = gym.make(\"ChromeDino-v0\")\n",
        "    state_shape = env.observation_space.shape\n",
        "    action_dim = env.action_space.n\n",
        "\n",
        "    replay_buffer = PrioritizedReplayBuffer(100_000, state_shape, action_dim)\n",
        "    model = RainbowDQN(action_dim=action_dim, atoms=51, v_min=-10, v_max=10)\n",
        "    params = nnx.Collection(model.init(jax.random.PRNGKey(0), jnp.ones(state_shape)))\n",
        "    opt_state = optax.adam(1e-4).init(params)\n",
        "\n",
        "    episodes_total = 1000  # Renamed for clarity\n",
        "    batch_size = 32\n",
        "    gamma = 0.99\n",
        "    rng = jax.random.PRNGKey(0)\n",
        "    rewards, episodes = [], []\n",
        "\n",
        "\n",
        "    for episode in range(episodes_total):\n",
        "        state = env.reset()\n",
        "        episode_reward = 0\n",
        "        done = False\n",
        "\n",
        "        while not done:\n",
        "            q_values = model.q_values(jnp.expand_dims(state, axis=0))\n",
        "            action = q_values.argmax() if np.random.rand() > 0.1 else env.action_space.sample()\n",
        "            next_state, reward, done, _ = env.step(action)\n",
        "            replay_buffer.store(state, action, reward, next_state, done)\n",
        "            state = next_state\n",
        "            episode_reward += reward\n",
        "            rewards.append(episode_reward)\n",
        "            episodes.append(episode)\n",
        "\n",
        "            if replay_buffer.size > batch_size:\n",
        "                params, opt_state, loss = train_step(rng, params, opt_state, replay_buffer, model, batch_size, gamma)\n",
        "\n",
        "        print(f\"Episode {episode + 1}, Reward: {episode_reward}\")\n",
        "\n",
        "    # Return the results from the function\n",
        "    return episodes, rewards\n",
        "\n",
        "# Call the function and get the results\n",
        "episodes, rewards = train_dino()\n",
        "\n",
        "\n",
        "\n"
      ]
    },
    {
      "cell_type": "markdown",
      "source": [
        "# Saving the results in a dataset for further enchancements\n",
        "We will save the episode and reward results into a csv file for inspections."
      ],
      "metadata": {
        "id": "ilpranH8NbQk"
      },
      "id": "ilpranH8NbQk"
    },
    {
      "cell_type": "code",
      "source": [
        "import pandas as pd\n",
        "results = {'Episode': sum(episodes), 'Reward': rewards}\n",
        "df = pd.DataFrame(results)\n",
        "df.to_csv('dino_results.csv', index=False)"
      ],
      "metadata": {
        "id": "pmZWIHwoQ4cc"
      },
      "id": "pmZWIHwoQ4cc",
      "execution_count": null,
      "outputs": []
    }
  ],
  "metadata": {
    "colab": {
      "provenance": []
    },
    "language_info": {
      "name": "python"
    },
    "kernelspec": {
      "name": "python3",
      "display_name": "Python 3"
    }
  },
  "nbformat": 4,
  "nbformat_minor": 5
}